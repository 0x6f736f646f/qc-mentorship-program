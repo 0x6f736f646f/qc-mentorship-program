{
 "cells": [
  {
   "cell_type": "code",
   "execution_count": 1,
   "metadata": {},
   "outputs": [],
   "source": [
    "import numpy as np\n",
    "\n",
    "from scipy import linalg as la\n",
    "from scipy.optimize import minimize\n",
    "\n",
    "from matplotlib import pyplot as plt\n",
    "\n",
    "from qiskit import Aer, execute, QuantumCircuit, QuantumRegister, ClassicalRegister\n",
    "from qiskit.circuit import Parameter\n",
    "from qiskit.aqua.operators import MatrixOp\n",
    "\n",
    "from qiskit.aqua.algorithms import VQE\n",
    "from qiskit.aqua.components.optimizers import SPSA\n",
    "from qiskit.aqua import QuantumInstance"
   ]
  },
  {
   "cell_type": "markdown",
   "metadata": {},
   "source": [
    "## Define Matrix and compute its eigenvalues and eigenvectors"
   ]
  },
  {
   "cell_type": "code",
   "execution_count": 2,
   "metadata": {},
   "outputs": [
    {
     "name": "stdout",
     "output_type": "stream",
     "text": [
      "Eigenvalues:  [ 1. -1.  1.  1.]\n",
      "Eigenvectors:  [[ 0.          0.          1.          0.        ]\n",
      " [-0.70710678  0.70710678  0.          0.        ]\n",
      " [ 0.70710678  0.70710678  0.          0.        ]\n",
      " [ 0.          0.          0.          1.        ]]\n"
     ]
    }
   ],
   "source": [
    "M = np.array([[1,  0,  0, 0], \n",
    "              [0,  0, -1, 0], \n",
    "              [0, -1,  0, 0], \n",
    "              [0,  0,  0, 1]])\n",
    "eigvals, eigvecs = la.eig(M)\n",
    "# The eigenvalues of A are\n",
    "print(\"Eigenvalues: \", eigvals.real)\n",
    "# The eigenvectors of A are\n",
    "print(\"Eigenvectors: \", eigvecs)"
   ]
  },
  {
   "cell_type": "markdown",
   "metadata": {},
   "source": [
    "### NOTE: Our lowest eigenvalue is -1"
   ]
  },
  {
   "cell_type": "markdown",
   "metadata": {},
   "source": [
    "## Process\n",
    "### 1. Decompose M into sum of Pauli terms\n",
    "\n",
    "Decomposition involves only terms consisting of the same matrices, i.e.: II, XX, YY, ZZ, and the coefficients are from the set [-1/2, -1, 0, 1, 1/2].\n"
   ]
  },
  {
   "cell_type": "code",
   "execution_count": 3,
   "metadata": {},
   "outputs": [
    {
     "name": "stdout",
     "output_type": "stream",
     "text": [
      "SummedOp(\n",
      "[0.5 * II,\n",
      "-0.5 * XX,\n",
      "-0.5 * YY,\n",
      "0.5 * ZZ])\n"
     ]
    }
   ],
   "source": [
    "H = MatrixOp(M).to_pauli_op()\n",
    "print(H)"
   ]
  },
  {
   "cell_type": "markdown",
   "metadata": {},
   "source": [
    "### 2. Choose ansatz\n",
    "\n",
    "The ansatz you can use is: (RX I) CX (HI) |00>, where angle in RX is your variational parameter."
   ]
  },
  {
   "cell_type": "code",
   "execution_count": 4,
   "metadata": {},
   "outputs": [],
   "source": [
    "def ansatz():\n",
    "    \"\"\"\n",
    "    Creates ansatz and returns a quantum circuit.\n",
    "    :return: quantum circuit\n",
    "    \"\"\"\n",
    "    phi = Parameter('φ')\n",
    "    qc = QuantumCircuit(2)\n",
    "    qc.h([0])\n",
    "    qc.cx([0], [1])\n",
    "    qc.rx(phi, [0])\n",
    "    \n",
    "    return qc, phi"
   ]
  },
  {
   "cell_type": "code",
   "execution_count": 5,
   "metadata": {},
   "outputs": [
    {
     "data": {
      "image/png": "[encoded data removed]",
      "text/plain": [
       "<Figure size 358.792x144.48 with 1 Axes>"
      ]
     },
     "execution_count": 5,
     "metadata": {},
     "output_type": "execute_result"
    }
   ],
   "source": [
    "qc, param = ansatz()\n",
    "qc.draw()"
   ]
  },
  {
   "cell_type": "markdown",
   "metadata": {},
   "source": [
    "### 3. VQE implementation\n",
    "#### 3.1"
   ]
  },
  {
   "cell_type": "code",
   "execution_count": 6,
   "metadata": {},
   "outputs": [],
   "source": [
    "backend = Aer.get_backend('qasm_simulator')"
   ]
  },
  {
   "cell_type": "code",
   "execution_count": 7,
   "metadata": {},
   "outputs": [],
   "source": [
    "def measure(circuit):\n",
    "    \"\"\"\n",
    "    Takes the quantum circuit and performs measurements and returns the expectation value\n",
    "    :param circuit: Quantum circuit\n",
    "    :return: expectation value\n",
    "    \"\"\"\n",
    "    result = execute(circuit, backend=backend, shots=1024).result()\n",
    "    counts = result.get_counts()\n",
    "    \n",
    "    expectation = 0.0\n",
    "    for key in ['00', '11']:\n",
    "        expectation += counts.get(key, 0.0)\n",
    "    for key in ['01', '10']:\n",
    "        expectation -= counts.get(key, 0.0)\n",
    "    return expectation / 1024"
   ]
  },
  {
   "cell_type": "code",
   "execution_count": 8,
   "metadata": {},
   "outputs": [],
   "source": [
    "# XX expectation\n",
    "def XX(phi):\n",
    "    \"\"\"\n",
    "    Gives the expectation value of XX sub hamiltonian from measurement\n",
    "    on parametric state\n",
    "    :param phi: angle in radians\n",
    "    :return: expectation value of XX \n",
    "    \"\"\"\n",
    "    circ = qc.bind_parameters({param: phi[0]})\n",
    "    # circ.h(qr[0])\n",
    "    # circ.h(qr[1])\n",
    "    circ.ry(-np.pi/2, 0)\n",
    "    circ.ry(-np.pi/2, 1)\n",
    "    circ.measure_all()\n",
    "    \n",
    "    expectation = measure(circ)\n",
    "    return expectation"
   ]
  },
  {
   "cell_type": "code",
   "execution_count": 9,
   "metadata": {},
   "outputs": [],
   "source": [
    "# YY expectation\n",
    "def YY(phi):\n",
    "    \"\"\"\n",
    "    Gives the expectation value of YY sub hamiltonian from measurement\n",
    "    on parametric state\n",
    "    :param phi: angle in radians\n",
    "    :return: expectation value of YY \n",
    "    \"\"\"\n",
    "    circ = qc.bind_parameters({param: phi[0]})\n",
    "#     circ.sdg(qr[0])\n",
    "#     circ.h(qr[0])\n",
    "#     circ.sdg(qr[1])\n",
    "#     circ.h(qr[1])\n",
    "    circ.rx(np.pi/2, 0)\n",
    "    circ.rx(np.pi/2, 1)\n",
    "    circ.measure_all()\n",
    "    \n",
    "    expectation = measure(circ)\n",
    "    return expectation"
   ]
  },
  {
   "cell_type": "code",
   "execution_count": 10,
   "metadata": {},
   "outputs": [],
   "source": [
    "# ZZ expectation\n",
    "def ZZ(phi):\n",
    "    \"\"\"\n",
    "    Gives the expectation value of ZZ sub hamiltonian from measurement\n",
    "    on parametric state\n",
    "    :param phi: angle in radians\n",
    "    :return: expectation value of ZZ \n",
    "    \"\"\"\n",
    "    circ = qc.bind_parameters({param: phi[0]})\n",
    "    circ.measure_all()\n",
    "    \n",
    "    expectation = measure(circ)\n",
    "    return expectation"
   ]
  },
  {
   "cell_type": "code",
   "execution_count": 11,
   "metadata": {},
   "outputs": [],
   "source": [
    "def cost(phi):\n",
    "    return 0.5 + (-0.5 * XX(phi)) + (- 0.5 * YY(phi)) + (0.5 * ZZ(phi))"
   ]
  },
  {
   "cell_type": "code",
   "execution_count": 12,
   "metadata": {},
   "outputs": [
    {
     "name": "stdout",
     "output_type": "stream",
     "text": [
      "Lowest eigenvalue:  -0.5009765625\n"
     ]
    }
   ],
   "source": [
    "phi = np.random.uniform(0, 2 * np.pi)\n",
    "\n",
    "print('Lowest eigenvalue: ', cost(phi=[phi]))"
   ]
  },
  {
   "cell_type": "code",
   "execution_count": 13,
   "metadata": {},
   "outputs": [],
   "source": [
    "eigenvalues = []\n",
    "angles = np.linspace(0,2*np.pi,250)\n",
    "for phi in angles:\n",
    "    eigenvalues.append(cost(phi=[phi]))"
   ]
  },
  {
   "cell_type": "code",
   "execution_count": 14,
   "metadata": {},
   "outputs": [
    {
     "data": {
      "image/png": "[encoded data removed]",
      "text/plain": [
       "<Figure size 720x432 with 1 Axes>"
      ]
     },
     "metadata": {
      "needs_background": "light"
     },
     "output_type": "display_data"
    }
   ],
   "source": [
    "plt.figure(figsize=(10,6))\n",
    "plt.plot(angles, eigenvalues, 'g')\n",
    "plt.plot(angles[eigenvalues.index(-1.0)], min(eigenvalues), \"ro\", markersize=12)\n",
    "plt.title(\"Eigenvalue vs angles\")\n",
    "plt.xlabel(\"Angle(radian)\")\n",
    "plt.ylabel(\"Eigenvalues\")\n",
    "plt.show()"
   ]
  },
  {
   "cell_type": "markdown",
   "metadata": {},
   "source": [
    "### 3.3 Using `scipy` minimize function"
   ]
  },
  {
   "cell_type": "code",
   "execution_count": 15,
   "metadata": {},
   "outputs": [
    {
     "name": "stdout",
     "output_type": "stream",
     "text": [
      "Lowest eigenvalue:  -1.0\n"
     ]
    },
    {
     "data": {
      "text/plain": [
       "     fun: -1.0\n",
       "   maxcv: 0.0\n",
       " message: 'Optimization terminated successfully.'\n",
       "    nfev: 17\n",
       "  status: 1\n",
       " success: True\n",
       "       x: array(9.40225711)"
      ]
     },
     "execution_count": 15,
     "metadata": {},
     "output_type": "execute_result"
    }
   ],
   "source": [
    "# random initial choice\n",
    "phi = np.random.uniform(0, 2 * np.pi)\n",
    "\n",
    "res = minimize(cost, phi, method='COBYLA')\n",
    "\n",
    "print('Lowest eigenvalue: ', res.fun)\n",
    "res"
   ]
  },
  {
   "cell_type": "markdown",
   "metadata": {},
   "source": [
    "### 4. VQE in Qiskit\n",
    "\n",
    "We use an already built VQE instance in Qisit Aqua"
   ]
  },
  {
   "cell_type": "code",
   "execution_count": 16,
   "metadata": {},
   "outputs": [
    {
     "name": "stdout",
     "output_type": "stream",
     "text": [
      "Lowest eigenvalue:  (-1+0j)\n"
     ]
    }
   ],
   "source": [
    "optimizer = SPSA()\n",
    "\n",
    "var_form, _ = ansatz()\n",
    "vqe = VQE(operator=H, var_form=var_form, optimizer=optimizer)\n",
    "vqe_results = vqe.run(QuantumInstance(backend=Aer.get_backend('qasm_simulator')))\n",
    "\n",
    "print(\"Lowest eigenvalue: \", vqe_results.eigenvalue)"
   ]
  },
  {
   "cell_type": "code",
   "execution_count": null,
   "metadata": {},
   "outputs": [],
   "source": []
  }
 ],
 "metadata": {
  "kernelspec": {
   "display_name": "PyCharm (Qiskit)",
   "language": "python",
   "name": "pycharm-f8797ed6"
  },
  "language_info": {
   "codemirror_mode": {
    "name": "ipython",
    "version": 3
   },
   "file_extension": ".py",
   "mimetype": "text/x-python",
   "name": "python",
   "nbconvert_exporter": "python",
   "pygments_lexer": "ipython3",
   "version": "3.6.9"
  }
 },
 "nbformat": 4,
 "nbformat_minor": 4
}
